{
 "cells": [
  {
   "cell_type": "code",
   "execution_count": 1,
   "metadata": {},
   "outputs": [],
   "source": [
    "import pandas as pd\r\n",
    "import numpy as np\r\n",
    "import matplotlib.pyplot as plt\r\n",
    "from scipy.stats import norm\r\n",
    "\r\n",
    "%matplotlib inline\r\n"
   ]
  },
  {
   "cell_type": "markdown",
   "metadata": {},
   "source": [
    "# Prepare Data"
   ]
  },
  {
   "cell_type": "code",
   "execution_count": 2,
   "metadata": {},
   "outputs": [
    {
     "data": {
      "text/html": [
       "<div>\n",
       "<style scoped>\n",
       "    .dataframe tbody tr th:only-of-type {\n",
       "        vertical-align: middle;\n",
       "    }\n",
       "\n",
       "    .dataframe tbody tr th {\n",
       "        vertical-align: top;\n",
       "    }\n",
       "\n",
       "    .dataframe thead th {\n",
       "        text-align: right;\n",
       "    }\n",
       "</style>\n",
       "<table border=\"1\" class=\"dataframe\">\n",
       "  <thead>\n",
       "    <tr style=\"text-align: right;\">\n",
       "      <th></th>\n",
       "      <th>Voltage</th>\n",
       "      <th>Time</th>\n",
       "    </tr>\n",
       "  </thead>\n",
       "  <tbody>\n",
       "    <tr>\n",
       "      <th>0</th>\n",
       "      <td>-0.200000</td>\n",
       "      <td>0</td>\n",
       "    </tr>\n",
       "    <tr>\n",
       "      <th>5550</th>\n",
       "      <td>0.025197</td>\n",
       "      <td>0</td>\n",
       "    </tr>\n",
       "    <tr>\n",
       "      <th>97100</th>\n",
       "      <td>0.001575</td>\n",
       "      <td>0</td>\n",
       "    </tr>\n",
       "    <tr>\n",
       "      <th>37300</th>\n",
       "      <td>-0.012598</td>\n",
       "      <td>0</td>\n",
       "    </tr>\n",
       "    <tr>\n",
       "      <th>64150</th>\n",
       "      <td>0.001575</td>\n",
       "      <td>0</td>\n",
       "    </tr>\n",
       "  </tbody>\n",
       "</table>\n",
       "</div>"
      ],
      "text/plain": [
       "        Voltage  Time\n",
       "0     -0.200000     0\n",
       "5550   0.025197     0\n",
       "97100  0.001575     0\n",
       "37300 -0.012598     0\n",
       "64150  0.001575     0"
      ]
     },
     "execution_count": 2,
     "metadata": {},
     "output_type": "execute_result"
    }
   ],
   "source": [
    "data: pd.DataFrame = pd.read_csv(\"ExampleRun_1kHz.csv\",names=[\"Channel\",\"Voltage\",\"Time\"])\n",
    "data = data.drop(\"Channel\",axis=1)\n",
    "data = data.sort_values(by=[\"Time\"])\n",
    "data.head(5)\n"
   ]
  },
  {
   "cell_type": "code",
   "execution_count": 3,
   "metadata": {},
   "outputs": [
    {
     "name": "stderr",
     "output_type": "stream",
     "text": [
      "<ipython-input-3-3d92c1c4dc2a>:5: RuntimeWarning: divide by zero encountered in double_scalars\n",
      "  timeDiff[\"Hertz\"] = timeDiff.apply(lambda row: 1/(row[0]/1000), axis=1)\n"
     ]
    },
    {
     "name": "stdout",
     "output_type": "stream",
     "text": [
      "        Time  Hertz\n",
      "5550     0.0    inf\n",
      "97100    0.0    inf\n",
      "37300    0.0    inf\n",
      "64150    0.0    inf\n",
      "101000   0.0    inf\n",
      "37350    0.0    inf\n",
      "64200    0.0    inf\n",
      "64100    0.0    inf\n",
      "64050    0.0    inf\n",
      "37450    0.0    inf\n"
     ]
    }
   ],
   "source": [
    "timeDiff = data.drop(\"Voltage\",axis=1)\r\n",
    "\r\n",
    "timeDiff = timeDiff.diff()\r\n",
    "timeDiff = timeDiff.drop([0],axis=0)\r\n",
    "timeDiff[\"Hertz\"] = timeDiff.apply(lambda row: 1/(row[0]/1000), axis=1)\r\n",
    "print(timeDiff.head(10))"
   ]
  },
  {
   "cell_type": "markdown",
   "metadata": {},
   "source": [
    "# Frequency Analysis"
   ]
  },
  {
   "cell_type": "markdown",
   "metadata": {},
   "source": [
    "### Average Frequency"
   ]
  },
  {
   "cell_type": "code",
   "execution_count": 4,
   "metadata": {},
   "outputs": [
    {
     "data": {
      "text/plain": [
       "inf"
      ]
     },
     "execution_count": 4,
     "metadata": {},
     "output_type": "execute_result"
    }
   ],
   "source": [
    "average = timeDiff[\"Hertz\"].mean()\r\n",
    "average"
   ]
  },
  {
   "cell_type": "code",
   "execution_count": 5,
   "metadata": {},
   "outputs": [],
   "source": [
    "\r\n",
    "sigma = timeDiff[\"Hertz\"].std()"
   ]
  },
  {
   "cell_type": "code",
   "execution_count": 6,
   "metadata": {},
   "outputs": [
    {
     "data": {
      "image/png": "[encoded data removed]",
      "text/plain": [
       "<Figure size 648x432 with 1 Axes>"
      ]
     },
     "metadata": {
      "needs_background": "light"
     },
     "output_type": "display_data"
    }
   ],
   "source": [
    "# build the plot\r\n",
    "fig, ax = plt.subplots(figsize=(9,6))\r\n",
    "plt.style.use('fivethirtyeight')\r\n",
    "ax.plot(data[\"Time\"].drop([0],axis=0),timeDiff[\"Hertz\"])\r\n",
    "\r\n",
    "# ax.fill_between(x,y,0, alpha=0.3, color='b')\r\n",
    "# ax.fill_between(x_all,y2,0, alpha=0.1)\r\n",
    "ax.set_xlabel('Time (MS)')\r\n",
    "ax.set_ylabel('Hertz')\r\n",
    "\r\n",
    "ax.set_title('Frequency over Time')\r\n",
    "\r\n",
    "plt.savefig('frequency_over_time.png', dpi=72, bbox_inches='tight')\r\n",
    "plt.show()"
   ]
  }
 ],
 "metadata": {
  "interpreter": {
   "hash": "98b0a9b7b4eaaa670588a142fd0a9b87eaafe866f1db4228be72b4211d12040f"
  },
  "kernelspec": {
   "display_name": "Python 3.8.5 64-bit ('base': conda)",
   "name": "python3"
  },
  "language_info": {
   "codemirror_mode": {
    "name": "ipython",
    "version": 3
   },
   "file_extension": ".py",
   "mimetype": "text/x-python",
   "name": "python",
   "nbconvert_exporter": "python",
   "pygments_lexer": "ipython3",
   "version": "3.9.5"
  },
  "orig_nbformat": 4
 },
 "nbformat": 4,
 "nbformat_minor": 2
}